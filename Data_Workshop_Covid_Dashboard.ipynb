{
  "nbformat": 4,
  "nbformat_minor": 0,
  "metadata": {
    "colab": {
      "name": "Data Workshop - Covid Dashboard",
      "provenance": [],
      "collapsed_sections": [],
      "include_colab_link": true
    },
    "kernelspec": {
      "name": "python3",
      "display_name": "Python 3"
    },
    "language_info": {
      "name": "python"
    }
  },
  "cells": [
    {
      "cell_type": "markdown",
      "metadata": {
        "id": "view-in-github",
        "colab_type": "text"
      },
      "source": [
        "<a href=\"https://colab.research.google.com/github/herr-hollis/Analyse-Telco-Custer-Churn-using-XGBoost/blob/main/Data_Workshop_Covid_Dashboard.ipynb\" target=\"_parent\"><img src=\"https://colab.research.google.com/assets/colab-badge.svg\" alt=\"Open In Colab\"/></a>"
      ]
    },
    {
      "cell_type": "markdown",
      "metadata": {
        "id": "1ptUq4ij8E5h"
      },
      "source": [
        "# Welcome to the Data Visualization Workshop!\n",
        "\n"
      ]
    },
    {
      "cell_type": "markdown",
      "metadata": {
        "id": "IL2u_0sC9wNk"
      },
      "source": [
        "## Import packages"
      ]
    },
    {
      "cell_type": "code",
      "metadata": {
        "id": "AYLokhzz4h9Z"
      },
      "source": [
        "from datetime import datetime, timedelta\n",
        "import pandas as pd\n",
        "import seaborn as sns\n",
        "import matplotlib.pyplot as plt"
      ],
      "execution_count": null,
      "outputs": []
    },
    {
      "cell_type": "markdown",
      "metadata": {
        "id": "9Mo_4nSk-Hin"
      },
      "source": [
        "## Import Malaysia's Covid cases, vaccination by state and country\n",
        "\n",
        "These data sources are from the goverment and are updated on a daily basis. Some dataset might only have t-1 or t-2 data."
      ]
    },
    {
      "cell_type": "code",
      "metadata": {
        "id": "Cp3c6Dn9-n16"
      },
      "source": [
        "# Malaysia Population Dataset\n",
        "population_df = pd.read_csv('https://raw.githubusercontent.com/CITF-Malaysia/citf-public/main/static/population.csv')\n",
        "\n",
        "# Malaysia Covid Cases Dataset\n",
        "case_my = 'https://raw.githubusercontent.com/MoH-Malaysia/covid19-public/main/epidemic/cases_malaysia.csv'\n",
        "case_my = pd.read_csv(case_my, parse_dates=['date'])\n",
        "\n",
        "# Malaysia Covid Death Cases Dataset\n",
        "death_my = 'https://raw.githubusercontent.com/MoH-Malaysia/covid19-public/main/epidemic/deaths_malaysia.csv'\n",
        "death_my = pd.read_csv(death_my, parse_dates=['date'])\n",
        "\n",
        "# Malaysia Covid Vaccination Dataset\n",
        "vax_my = 'https://raw.githubusercontent.com/CITF-Malaysia/citf-public/main/vaccination/vax_malaysia.csv'\n",
        "vax_my = pd.read_csv(vax_my, parse_dates=['date'])\n",
        "\n",
        "# Malaysia Covid Vaccination by State Dataset\n",
        "vax_state = 'https://raw.githubusercontent.com/CITF-Malaysia/citf-public/main/vaccination/vax_state.csv'\n",
        "vax_state = pd.read_csv(vax_state)"
      ],
      "execution_count": null,
      "outputs": []
    },
    {
      "cell_type": "code",
      "metadata": {
        "colab": {
          "base_uri": "https://localhost:8080/",
          "height": 111
        },
        "id": "POQ2rS3gD8JO",
        "outputId": "0f86e23f-5cb2-49c2-c09c-ea471d4e63e3"
      },
      "source": [
        "# Show top two rows\n",
        "population_df.head(2)"
      ],
      "execution_count": null,
      "outputs": [
        {
          "output_type": "execute_result",
          "data": {
            "text/html": [
              "<div>\n",
              "<style scoped>\n",
              "    .dataframe tbody tr th:only-of-type {\n",
              "        vertical-align: middle;\n",
              "    }\n",
              "\n",
              "    .dataframe tbody tr th {\n",
              "        vertical-align: top;\n",
              "    }\n",
              "\n",
              "    .dataframe thead th {\n",
              "        text-align: right;\n",
              "    }\n",
              "</style>\n",
              "<table border=\"1\" class=\"dataframe\">\n",
              "  <thead>\n",
              "    <tr style=\"text-align: right;\">\n",
              "      <th></th>\n",
              "      <th>state</th>\n",
              "      <th>idxs</th>\n",
              "      <th>pop</th>\n",
              "      <th>pop_18</th>\n",
              "      <th>pop_60</th>\n",
              "    </tr>\n",
              "  </thead>\n",
              "  <tbody>\n",
              "    <tr>\n",
              "      <th>0</th>\n",
              "      <td>Malaysia</td>\n",
              "      <td>0</td>\n",
              "      <td>32657400</td>\n",
              "      <td>23409600</td>\n",
              "      <td>3502000</td>\n",
              "    </tr>\n",
              "    <tr>\n",
              "      <th>1</th>\n",
              "      <td>Johor</td>\n",
              "      <td>1</td>\n",
              "      <td>3781000</td>\n",
              "      <td>2711900</td>\n",
              "      <td>428700</td>\n",
              "    </tr>\n",
              "  </tbody>\n",
              "</table>\n",
              "</div>"
            ],
            "text/plain": [
              "      state  idxs       pop    pop_18   pop_60\n",
              "0  Malaysia     0  32657400  23409600  3502000\n",
              "1     Johor     1   3781000   2711900   428700"
            ]
          },
          "metadata": {},
          "execution_count": 5
        }
      ]
    },
    {
      "cell_type": "markdown",
      "metadata": {
        "id": "OKGy1DZU-_05"
      },
      "source": [
        "## Check Malaysia's latest covid cases"
      ]
    },
    {
      "cell_type": "code",
      "metadata": {
        "id": "VerNEDnC4mfv",
        "colab": {
          "base_uri": "https://localhost:8080/",
          "height": 165
        },
        "outputId": "23eac577-9465-4a34-e1fa-e6258a7ae679"
      },
      "source": [
        "# Show top two rows\n",
        "case_my.tail(2)"
      ],
      "execution_count": null,
      "outputs": [
        {
          "output_type": "execute_result",
          "data": {
            "text/html": [
              "<div>\n",
              "<style scoped>\n",
              "    .dataframe tbody tr th:only-of-type {\n",
              "        vertical-align: middle;\n",
              "    }\n",
              "\n",
              "    .dataframe tbody tr th {\n",
              "        vertical-align: top;\n",
              "    }\n",
              "\n",
              "    .dataframe thead th {\n",
              "        text-align: right;\n",
              "    }\n",
              "</style>\n",
              "<table border=\"1\" class=\"dataframe\">\n",
              "  <thead>\n",
              "    <tr style=\"text-align: right;\">\n",
              "      <th></th>\n",
              "      <th>date</th>\n",
              "      <th>cases_new</th>\n",
              "      <th>cases_import</th>\n",
              "      <th>cases_recovered</th>\n",
              "      <th>cluster_import</th>\n",
              "      <th>cluster_religious</th>\n",
              "      <th>cluster_community</th>\n",
              "      <th>cluster_highRisk</th>\n",
              "      <th>cluster_education</th>\n",
              "      <th>cluster_detentionCentre</th>\n",
              "      <th>cluster_workplace</th>\n",
              "    </tr>\n",
              "  </thead>\n",
              "  <tbody>\n",
              "    <tr>\n",
              "      <th>600</th>\n",
              "      <td>2021-09-16</td>\n",
              "      <td>18815</td>\n",
              "      <td>7</td>\n",
              "      <td>16939</td>\n",
              "      <td>0.0</td>\n",
              "      <td>4.0</td>\n",
              "      <td>456.0</td>\n",
              "      <td>47.0</td>\n",
              "      <td>45.0</td>\n",
              "      <td>54.0</td>\n",
              "      <td>775.0</td>\n",
              "    </tr>\n",
              "    <tr>\n",
              "      <th>601</th>\n",
              "      <td>2021-09-17</td>\n",
              "      <td>17577</td>\n",
              "      <td>3</td>\n",
              "      <td>22970</td>\n",
              "      <td>0.0</td>\n",
              "      <td>3.0</td>\n",
              "      <td>432.0</td>\n",
              "      <td>31.0</td>\n",
              "      <td>13.0</td>\n",
              "      <td>20.0</td>\n",
              "      <td>1055.0</td>\n",
              "    </tr>\n",
              "  </tbody>\n",
              "</table>\n",
              "</div>"
            ],
            "text/plain": [
              "          date  cases_new  ...  cluster_detentionCentre  cluster_workplace\n",
              "600 2021-09-16      18815  ...                     54.0              775.0\n",
              "601 2021-09-17      17577  ...                     20.0             1055.0\n",
              "\n",
              "[2 rows x 11 columns]"
            ]
          },
          "metadata": {},
          "execution_count": 6
        }
      ]
    },
    {
      "cell_type": "markdown",
      "metadata": {
        "id": "28Z76vCzcuLu"
      },
      "source": [
        "## Check Malaysia's latest death data"
      ]
    },
    {
      "cell_type": "code",
      "metadata": {
        "colab": {
          "base_uri": "https://localhost:8080/",
          "height": 111
        },
        "id": "vqM-RbJAcs8m",
        "outputId": "377def92-5e96-4ec7-ef2b-5780e28e07cd"
      },
      "source": [
        "# Show top two rows\n",
        "death_my.tail(2)"
      ],
      "execution_count": null,
      "outputs": [
        {
          "output_type": "execute_result",
          "data": {
            "text/html": [
              "<div>\n",
              "<style scoped>\n",
              "    .dataframe tbody tr th:only-of-type {\n",
              "        vertical-align: middle;\n",
              "    }\n",
              "\n",
              "    .dataframe tbody tr th {\n",
              "        vertical-align: top;\n",
              "    }\n",
              "\n",
              "    .dataframe thead th {\n",
              "        text-align: right;\n",
              "    }\n",
              "</style>\n",
              "<table border=\"1\" class=\"dataframe\">\n",
              "  <thead>\n",
              "    <tr style=\"text-align: right;\">\n",
              "      <th></th>\n",
              "      <th>date</th>\n",
              "      <th>deaths_new</th>\n",
              "      <th>deaths_new_dod</th>\n",
              "      <th>deaths_bid</th>\n",
              "      <th>deaths_bid_dod</th>\n",
              "    </tr>\n",
              "  </thead>\n",
              "  <tbody>\n",
              "    <tr>\n",
              "      <th>548</th>\n",
              "      <td>2021-09-16</td>\n",
              "      <td>346</td>\n",
              "      <td>41</td>\n",
              "      <td>105</td>\n",
              "      <td>0</td>\n",
              "    </tr>\n",
              "    <tr>\n",
              "      <th>549</th>\n",
              "      <td>2021-09-17</td>\n",
              "      <td>388</td>\n",
              "      <td>9</td>\n",
              "      <td>64</td>\n",
              "      <td>0</td>\n",
              "    </tr>\n",
              "  </tbody>\n",
              "</table>\n",
              "</div>"
            ],
            "text/plain": [
              "          date  deaths_new  deaths_new_dod  deaths_bid  deaths_bid_dod\n",
              "548 2021-09-16         346              41         105               0\n",
              "549 2021-09-17         388               9          64               0"
            ]
          },
          "metadata": {},
          "execution_count": 7
        }
      ]
    },
    {
      "cell_type": "markdown",
      "metadata": {
        "id": "YzCN8WrB-6RX"
      },
      "source": [
        "## Check Malaysia vaccination data"
      ]
    },
    {
      "cell_type": "code",
      "metadata": {
        "colab": {
          "base_uri": "https://localhost:8080/",
          "height": 165
        },
        "id": "Mpy7Aol64oWy",
        "outputId": "3f646bea-db80-4557-99a6-aec571256943"
      },
      "source": [
        "# Show top two rows\n",
        "vax_my.tail(2)"
      ],
      "execution_count": null,
      "outputs": [
        {
          "output_type": "execute_result",
          "data": {
            "text/html": [
              "<div>\n",
              "<style scoped>\n",
              "    .dataframe tbody tr th:only-of-type {\n",
              "        vertical-align: middle;\n",
              "    }\n",
              "\n",
              "    .dataframe tbody tr th {\n",
              "        vertical-align: top;\n",
              "    }\n",
              "\n",
              "    .dataframe thead th {\n",
              "        text-align: right;\n",
              "    }\n",
              "</style>\n",
              "<table border=\"1\" class=\"dataframe\">\n",
              "  <thead>\n",
              "    <tr style=\"text-align: right;\">\n",
              "      <th></th>\n",
              "      <th>date</th>\n",
              "      <th>daily_partial</th>\n",
              "      <th>daily_full</th>\n",
              "      <th>daily</th>\n",
              "      <th>cumul_partial</th>\n",
              "      <th>cumul_full</th>\n",
              "      <th>cumul</th>\n",
              "      <th>cumul_partial_child</th>\n",
              "      <th>cumul_full_child</th>\n",
              "      <th>pfizer1</th>\n",
              "      <th>pfizer2</th>\n",
              "      <th>sinovac1</th>\n",
              "      <th>sinovac2</th>\n",
              "      <th>astra1</th>\n",
              "      <th>astra2</th>\n",
              "      <th>cansino</th>\n",
              "      <th>pending</th>\n",
              "    </tr>\n",
              "  </thead>\n",
              "  <tbody>\n",
              "    <tr>\n",
              "      <th>204</th>\n",
              "      <td>2021-09-16</td>\n",
              "      <td>62108</td>\n",
              "      <td>140190</td>\n",
              "      <td>202298</td>\n",
              "      <td>21783871</td>\n",
              "      <td>17973545</td>\n",
              "      <td>39685414</td>\n",
              "      <td>86954</td>\n",
              "      <td>0</td>\n",
              "      <td>39815</td>\n",
              "      <td>80274</td>\n",
              "      <td>7178</td>\n",
              "      <td>33376</td>\n",
              "      <td>386</td>\n",
              "      <td>23043</td>\n",
              "      <td>2210</td>\n",
              "      <td>16016</td>\n",
              "    </tr>\n",
              "    <tr>\n",
              "      <th>205</th>\n",
              "      <td>2021-09-17</td>\n",
              "      <td>75986</td>\n",
              "      <td>162016</td>\n",
              "      <td>238002</td>\n",
              "      <td>21861904</td>\n",
              "      <td>18135561</td>\n",
              "      <td>39923416</td>\n",
              "      <td>116322</td>\n",
              "      <td>0</td>\n",
              "      <td>68123</td>\n",
              "      <td>101285</td>\n",
              "      <td>6950</td>\n",
              "      <td>34810</td>\n",
              "      <td>606</td>\n",
              "      <td>22376</td>\n",
              "      <td>2047</td>\n",
              "      <td>1805</td>\n",
              "    </tr>\n",
              "  </tbody>\n",
              "</table>\n",
              "</div>"
            ],
            "text/plain": [
              "          date  daily_partial  daily_full  ...  astra2  cansino  pending\n",
              "204 2021-09-16          62108      140190  ...   23043     2210    16016\n",
              "205 2021-09-17          75986      162016  ...   22376     2047     1805\n",
              "\n",
              "[2 rows x 17 columns]"
            ]
          },
          "metadata": {},
          "execution_count": 8
        }
      ]
    },
    {
      "cell_type": "code",
      "metadata": {
        "id": "r99V3d5x4rBk",
        "colab": {
          "base_uri": "https://localhost:8080/",
          "height": 165
        },
        "outputId": "cb107172-38ee-4754-ccc3-3342462c7a19"
      },
      "source": [
        "# Show top two rows\n",
        "vax_state.tail(2)"
      ],
      "execution_count": null,
      "outputs": [
        {
          "output_type": "execute_result",
          "data": {
            "text/html": [
              "<div>\n",
              "<style scoped>\n",
              "    .dataframe tbody tr th:only-of-type {\n",
              "        vertical-align: middle;\n",
              "    }\n",
              "\n",
              "    .dataframe tbody tr th {\n",
              "        vertical-align: top;\n",
              "    }\n",
              "\n",
              "    .dataframe thead th {\n",
              "        text-align: right;\n",
              "    }\n",
              "</style>\n",
              "<table border=\"1\" class=\"dataframe\">\n",
              "  <thead>\n",
              "    <tr style=\"text-align: right;\">\n",
              "      <th></th>\n",
              "      <th>date</th>\n",
              "      <th>state</th>\n",
              "      <th>daily_partial</th>\n",
              "      <th>daily_full</th>\n",
              "      <th>daily</th>\n",
              "      <th>cumul_partial</th>\n",
              "      <th>cumul_full</th>\n",
              "      <th>cumul</th>\n",
              "      <th>cumul_partial_child</th>\n",
              "      <th>cumul_full_child</th>\n",
              "      <th>pfizer1</th>\n",
              "      <th>pfizer2</th>\n",
              "      <th>sinovac1</th>\n",
              "      <th>sinovac2</th>\n",
              "      <th>astra1</th>\n",
              "      <th>astra2</th>\n",
              "      <th>cansino</th>\n",
              "      <th>pending</th>\n",
              "    </tr>\n",
              "  </thead>\n",
              "  <tbody>\n",
              "    <tr>\n",
              "      <th>3294</th>\n",
              "      <td>2021-09-17</td>\n",
              "      <td>W.P. Labuan</td>\n",
              "      <td>45</td>\n",
              "      <td>75</td>\n",
              "      <td>120</td>\n",
              "      <td>73837</td>\n",
              "      <td>66984</td>\n",
              "      <td>140821</td>\n",
              "      <td>2461</td>\n",
              "      <td>0</td>\n",
              "      <td>43</td>\n",
              "      <td>70</td>\n",
              "      <td>2</td>\n",
              "      <td>5</td>\n",
              "      <td>0</td>\n",
              "      <td>0</td>\n",
              "      <td>0</td>\n",
              "      <td>0</td>\n",
              "    </tr>\n",
              "    <tr>\n",
              "      <th>3295</th>\n",
              "      <td>2021-09-17</td>\n",
              "      <td>W.P. Putrajaya</td>\n",
              "      <td>139</td>\n",
              "      <td>685</td>\n",
              "      <td>824</td>\n",
              "      <td>128688</td>\n",
              "      <td>123078</td>\n",
              "      <td>251766</td>\n",
              "      <td>0</td>\n",
              "      <td>0</td>\n",
              "      <td>139</td>\n",
              "      <td>658</td>\n",
              "      <td>0</td>\n",
              "      <td>22</td>\n",
              "      <td>0</td>\n",
              "      <td>0</td>\n",
              "      <td>0</td>\n",
              "      <td>5</td>\n",
              "    </tr>\n",
              "  </tbody>\n",
              "</table>\n",
              "</div>"
            ],
            "text/plain": [
              "            date           state  daily_partial  ...  astra2  cansino  pending\n",
              "3294  2021-09-17     W.P. Labuan             45  ...       0        0        0\n",
              "3295  2021-09-17  W.P. Putrajaya            139  ...       0        0        5\n",
              "\n",
              "[2 rows x 18 columns]"
            ]
          },
          "metadata": {},
          "execution_count": 9
        }
      ]
    },
    {
      "cell_type": "markdown",
      "metadata": {
        "id": "COWGhS5B_S0Y"
      },
      "source": [
        "## Merging/joining our vaccination data with cases and death data\n",
        "So we can have combined or holistic view of vaccination, covid and death cases as both of the dataset shares the same date."
      ]
    },
    {
      "cell_type": "code",
      "metadata": {
        "id": "Q3CPjGMy4uAf"
      },
      "source": [
        "final_data = vax_my.merge(case_my, on='date', how='left')"
      ],
      "execution_count": null,
      "outputs": []
    },
    {
      "cell_type": "code",
      "metadata": {
        "id": "mFQfx-x9EzWP"
      },
      "source": [
        "final_data = final_data.merge(death_my, on='date', how='left')"
      ],
      "execution_count": null,
      "outputs": []
    },
    {
      "cell_type": "code",
      "metadata": {
        "id": "mbSan4t3EXDV"
      },
      "source": [
        "final_data[\"malaysia_pop\"] = population_df.iloc[0,2]"
      ],
      "execution_count": null,
      "outputs": []
    },
    {
      "cell_type": "code",
      "metadata": {
        "colab": {
          "base_uri": "https://localhost:8080/",
          "height": 165
        },
        "id": "XqWbcpEq4vcP",
        "outputId": "cd4e9ddc-953f-4b8a-97ac-ce296b9a197b"
      },
      "source": [
        "# Show top two rows\n",
        "final_data.head(2)"
      ],
      "execution_count": null,
      "outputs": [
        {
          "output_type": "execute_result",
          "data": {
            "text/html": [
              "<div>\n",
              "<style scoped>\n",
              "    .dataframe tbody tr th:only-of-type {\n",
              "        vertical-align: middle;\n",
              "    }\n",
              "\n",
              "    .dataframe tbody tr th {\n",
              "        vertical-align: top;\n",
              "    }\n",
              "\n",
              "    .dataframe thead th {\n",
              "        text-align: right;\n",
              "    }\n",
              "</style>\n",
              "<table border=\"1\" class=\"dataframe\">\n",
              "  <thead>\n",
              "    <tr style=\"text-align: right;\">\n",
              "      <th></th>\n",
              "      <th>date</th>\n",
              "      <th>daily_partial</th>\n",
              "      <th>daily_full</th>\n",
              "      <th>daily</th>\n",
              "      <th>cumul_partial</th>\n",
              "      <th>cumul_full</th>\n",
              "      <th>cumul</th>\n",
              "      <th>cumul_partial_child</th>\n",
              "      <th>cumul_full_child</th>\n",
              "      <th>pfizer1</th>\n",
              "      <th>pfizer2</th>\n",
              "      <th>sinovac1</th>\n",
              "      <th>sinovac2</th>\n",
              "      <th>astra1</th>\n",
              "      <th>astra2</th>\n",
              "      <th>cansino</th>\n",
              "      <th>pending</th>\n",
              "      <th>cases_new</th>\n",
              "      <th>cases_import</th>\n",
              "      <th>cases_recovered</th>\n",
              "      <th>cluster_import</th>\n",
              "      <th>cluster_religious</th>\n",
              "      <th>cluster_community</th>\n",
              "      <th>cluster_highRisk</th>\n",
              "      <th>cluster_education</th>\n",
              "      <th>cluster_detentionCentre</th>\n",
              "      <th>cluster_workplace</th>\n",
              "      <th>deaths_new</th>\n",
              "      <th>deaths_new_dod</th>\n",
              "      <th>deaths_bid</th>\n",
              "      <th>deaths_bid_dod</th>\n",
              "      <th>malaysia_pop</th>\n",
              "    </tr>\n",
              "  </thead>\n",
              "  <tbody>\n",
              "    <tr>\n",
              "      <th>0</th>\n",
              "      <td>2021-02-24</td>\n",
              "      <td>60</td>\n",
              "      <td>0</td>\n",
              "      <td>60</td>\n",
              "      <td>60</td>\n",
              "      <td>0</td>\n",
              "      <td>60</td>\n",
              "      <td>0</td>\n",
              "      <td>0</td>\n",
              "      <td>60</td>\n",
              "      <td>0</td>\n",
              "      <td>0</td>\n",
              "      <td>0</td>\n",
              "      <td>0</td>\n",
              "      <td>0</td>\n",
              "      <td>0</td>\n",
              "      <td>0</td>\n",
              "      <td>3545</td>\n",
              "      <td>1</td>\n",
              "      <td>3331</td>\n",
              "      <td>0.0</td>\n",
              "      <td>0.0</td>\n",
              "      <td>70.0</td>\n",
              "      <td>19.0</td>\n",
              "      <td>0.0</td>\n",
              "      <td>29.0</td>\n",
              "      <td>2338.0</td>\n",
              "      <td>12</td>\n",
              "      <td>5</td>\n",
              "      <td>1</td>\n",
              "      <td>0</td>\n",
              "      <td>32657400</td>\n",
              "    </tr>\n",
              "    <tr>\n",
              "      <th>1</th>\n",
              "      <td>2021-02-25</td>\n",
              "      <td>1146</td>\n",
              "      <td>0</td>\n",
              "      <td>1146</td>\n",
              "      <td>1206</td>\n",
              "      <td>0</td>\n",
              "      <td>1206</td>\n",
              "      <td>0</td>\n",
              "      <td>0</td>\n",
              "      <td>1146</td>\n",
              "      <td>0</td>\n",
              "      <td>0</td>\n",
              "      <td>0</td>\n",
              "      <td>0</td>\n",
              "      <td>0</td>\n",
              "      <td>0</td>\n",
              "      <td>0</td>\n",
              "      <td>1924</td>\n",
              "      <td>6</td>\n",
              "      <td>3752</td>\n",
              "      <td>0.0</td>\n",
              "      <td>1.0</td>\n",
              "      <td>76.0</td>\n",
              "      <td>26.0</td>\n",
              "      <td>0.0</td>\n",
              "      <td>105.0</td>\n",
              "      <td>442.0</td>\n",
              "      <td>13</td>\n",
              "      <td>6</td>\n",
              "      <td>2</td>\n",
              "      <td>1</td>\n",
              "      <td>32657400</td>\n",
              "    </tr>\n",
              "  </tbody>\n",
              "</table>\n",
              "</div>"
            ],
            "text/plain": [
              "        date  daily_partial  ...  deaths_bid_dod  malaysia_pop\n",
              "0 2021-02-24             60  ...               0      32657400\n",
              "1 2021-02-25           1146  ...               1      32657400\n",
              "\n",
              "[2 rows x 32 columns]"
            ]
          },
          "metadata": {},
          "execution_count": 13
        }
      ]
    },
    {
      "cell_type": "markdown",
      "metadata": {
        "id": "pB4J5gkyBLsx"
      },
      "source": [
        "## Checking Null Values"
      ]
    },
    {
      "cell_type": "code",
      "metadata": {
        "colab": {
          "base_uri": "https://localhost:8080/"
        },
        "id": "gWwYZD12BFsj",
        "outputId": "860cdf5a-38d9-434c-ea39-9c5c27be2de7"
      },
      "source": [
        "final_data.isnull().sum()"
      ],
      "execution_count": null,
      "outputs": [
        {
          "output_type": "execute_result",
          "data": {
            "text/plain": [
              "date                       0\n",
              "daily_partial              0\n",
              "daily_full                 0\n",
              "daily                      0\n",
              "cumul_partial              0\n",
              "cumul_full                 0\n",
              "cumul                      0\n",
              "cumul_partial_child        0\n",
              "cumul_full_child           0\n",
              "pfizer1                    0\n",
              "pfizer2                    0\n",
              "sinovac1                   0\n",
              "sinovac2                   0\n",
              "astra1                     0\n",
              "astra2                     0\n",
              "cansino                    0\n",
              "pending                    0\n",
              "cases_new                  0\n",
              "cases_import               0\n",
              "cases_recovered            0\n",
              "cluster_import             0\n",
              "cluster_religious          0\n",
              "cluster_community          0\n",
              "cluster_highRisk           0\n",
              "cluster_education          0\n",
              "cluster_detentionCentre    0\n",
              "cluster_workplace          0\n",
              "deaths_new                 0\n",
              "deaths_new_dod             0\n",
              "deaths_bid                 0\n",
              "deaths_bid_dod             0\n",
              "malaysia_pop               0\n",
              "dtype: int64"
            ]
          },
          "metadata": {},
          "execution_count": 15
        }
      ]
    },
    {
      "cell_type": "markdown",
      "metadata": {
        "id": "SmcjaKkd_1Zo"
      },
      "source": [
        "## Changing date display format (Necessary for Google Sheet)"
      ]
    },
    {
      "cell_type": "code",
      "metadata": {
        "id": "rdOII57W3daF"
      },
      "source": [
        "final_data['date'] = final_data.date.apply(lambda x: x.strftime('%Y%m%d')).astype(int)"
      ],
      "execution_count": null,
      "outputs": []
    },
    {
      "cell_type": "code",
      "metadata": {
        "colab": {
          "base_uri": "https://localhost:8080/",
          "height": 131
        },
        "id": "l6YtA0waIP2Y",
        "outputId": "6b06e811-47d7-4d51-e39e-2f4839a66738"
      },
      "source": [
        "#Show top two\n",
        "final_data.head(2)"
      ],
      "execution_count": null,
      "outputs": [
        {
          "output_type": "execute_result",
          "data": {
            "text/html": [
              "<div>\n",
              "<style scoped>\n",
              "    .dataframe tbody tr th:only-of-type {\n",
              "        vertical-align: middle;\n",
              "    }\n",
              "\n",
              "    .dataframe tbody tr th {\n",
              "        vertical-align: top;\n",
              "    }\n",
              "\n",
              "    .dataframe thead th {\n",
              "        text-align: right;\n",
              "    }\n",
              "</style>\n",
              "<table border=\"1\" class=\"dataframe\">\n",
              "  <thead>\n",
              "    <tr style=\"text-align: right;\">\n",
              "      <th></th>\n",
              "      <th>date</th>\n",
              "      <th>daily_partial</th>\n",
              "      <th>daily_full</th>\n",
              "      <th>daily</th>\n",
              "      <th>cumul_partial</th>\n",
              "      <th>cumul_full</th>\n",
              "      <th>cumul</th>\n",
              "      <th>cumul_partial_child</th>\n",
              "      <th>cumul_full_child</th>\n",
              "      <th>pfizer1</th>\n",
              "      <th>pfizer2</th>\n",
              "      <th>sinovac1</th>\n",
              "      <th>sinovac2</th>\n",
              "      <th>astra1</th>\n",
              "      <th>astra2</th>\n",
              "      <th>cansino</th>\n",
              "      <th>pending</th>\n",
              "      <th>cases_new</th>\n",
              "      <th>cases_import</th>\n",
              "      <th>cases_recovered</th>\n",
              "      <th>cluster_import</th>\n",
              "      <th>cluster_religious</th>\n",
              "      <th>cluster_community</th>\n",
              "      <th>cluster_highRisk</th>\n",
              "      <th>cluster_education</th>\n",
              "      <th>cluster_detentionCentre</th>\n",
              "      <th>cluster_workplace</th>\n",
              "      <th>deaths_new</th>\n",
              "      <th>deaths_new_dod</th>\n",
              "      <th>deaths_bid</th>\n",
              "      <th>deaths_bid_dod</th>\n",
              "      <th>malaysia_pop</th>\n",
              "    </tr>\n",
              "  </thead>\n",
              "  <tbody>\n",
              "    <tr>\n",
              "      <th>0</th>\n",
              "      <td>20210224</td>\n",
              "      <td>60</td>\n",
              "      <td>0</td>\n",
              "      <td>60</td>\n",
              "      <td>60</td>\n",
              "      <td>0</td>\n",
              "      <td>60</td>\n",
              "      <td>0</td>\n",
              "      <td>0</td>\n",
              "      <td>60</td>\n",
              "      <td>0</td>\n",
              "      <td>0</td>\n",
              "      <td>0</td>\n",
              "      <td>0</td>\n",
              "      <td>0</td>\n",
              "      <td>0</td>\n",
              "      <td>0</td>\n",
              "      <td>3545</td>\n",
              "      <td>1</td>\n",
              "      <td>3331</td>\n",
              "      <td>0.0</td>\n",
              "      <td>0.0</td>\n",
              "      <td>70.0</td>\n",
              "      <td>19.0</td>\n",
              "      <td>0.0</td>\n",
              "      <td>29.0</td>\n",
              "      <td>2338.0</td>\n",
              "      <td>12</td>\n",
              "      <td>5</td>\n",
              "      <td>1</td>\n",
              "      <td>0</td>\n",
              "      <td>32657400</td>\n",
              "    </tr>\n",
              "    <tr>\n",
              "      <th>1</th>\n",
              "      <td>20210225</td>\n",
              "      <td>1146</td>\n",
              "      <td>0</td>\n",
              "      <td>1146</td>\n",
              "      <td>1206</td>\n",
              "      <td>0</td>\n",
              "      <td>1206</td>\n",
              "      <td>0</td>\n",
              "      <td>0</td>\n",
              "      <td>1146</td>\n",
              "      <td>0</td>\n",
              "      <td>0</td>\n",
              "      <td>0</td>\n",
              "      <td>0</td>\n",
              "      <td>0</td>\n",
              "      <td>0</td>\n",
              "      <td>0</td>\n",
              "      <td>1924</td>\n",
              "      <td>6</td>\n",
              "      <td>3752</td>\n",
              "      <td>0.0</td>\n",
              "      <td>1.0</td>\n",
              "      <td>76.0</td>\n",
              "      <td>26.0</td>\n",
              "      <td>0.0</td>\n",
              "      <td>105.0</td>\n",
              "      <td>442.0</td>\n",
              "      <td>13</td>\n",
              "      <td>6</td>\n",
              "      <td>2</td>\n",
              "      <td>1</td>\n",
              "      <td>32657400</td>\n",
              "    </tr>\n",
              "  </tbody>\n",
              "</table>\n",
              "</div>"
            ],
            "text/plain": [
              "       date  daily_partial  ...  deaths_bid_dod  malaysia_pop\n",
              "0  20210224             60  ...               0      32657400\n",
              "1  20210225           1146  ...               1      32657400\n",
              "\n",
              "[2 rows x 32 columns]"
            ]
          },
          "metadata": {},
          "execution_count": 15
        }
      ]
    },
    {
      "cell_type": "code",
      "metadata": {
        "id": "h6nrTyDa4xjg"
      },
      "source": [
        "from google.colab import auth\n",
        "auth.authenticate_user()\n",
        "\n",
        "import gspread\n",
        "from oauth2client.client import GoogleCredentials\n",
        "import gspread_dataframe as gd\n",
        "\n",
        "# Connecting with `gspread` here\n",
        "\n",
        "gc = gspread.authorize(GoogleCredentials.get_application_default())"
      ],
      "execution_count": null,
      "outputs": []
    },
    {
      "cell_type": "markdown",
      "metadata": {
        "id": "k87sqlKeAJHH"
      },
      "source": [
        "## Create Google Sheet called Covid.\n",
        "Let's go to the file once it has been created. We will manually create two working sheet to understand how to separate our data better.\n",
        "Create:\n",
        "1. Data sheet (Vaccination + Cases)\n",
        "2. State (Vaccination by state)"
      ]
    },
    {
      "cell_type": "code",
      "metadata": {
        "id": "nTqkH9-k4y7p"
      },
      "source": [
        "sh = gc.create('Covid')"
      ],
      "execution_count": null,
      "outputs": []
    },
    {
      "cell_type": "markdown",
      "metadata": {
        "id": "JoBe-oPLAErQ"
      },
      "source": [
        "## Saving our vaccination and cases data into worksheet called Data"
      ]
    },
    {
      "cell_type": "code",
      "metadata": {
        "id": "OnO5LHPQ47-J"
      },
      "source": [
        "ws = gc.open(\"Covid\").worksheet(\"Data\")\n",
        "existing = gd.get_as_dataframe(ws)\n",
        "\n",
        "gd.set_with_dataframe(ws, final_data)"
      ],
      "execution_count": null,
      "outputs": []
    },
    {
      "cell_type": "markdown",
      "metadata": {
        "id": "ZexucmunA0o6"
      },
      "source": [
        "## Saving our vaccination by state data into worksheet called State"
      ]
    },
    {
      "cell_type": "code",
      "metadata": {
        "id": "ArAAso1v5m7m"
      },
      "source": [
        "ws = gc.open(\"Covid\").worksheet(\"State\")\n",
        "existing = gd.get_as_dataframe(ws)\n",
        "gd.set_with_dataframe(ws, vax_state)"
      ],
      "execution_count": null,
      "outputs": []
    },
    {
      "cell_type": "markdown",
      "metadata": {
        "id": "Zwa1QOKSBeA4"
      },
      "source": [
        "# Let's head over to Data Studio to start visualizing it :D"
      ]
    },
    {
      "cell_type": "code",
      "metadata": {
        "id": "agG8V0smIO17"
      },
      "source": [
        ""
      ],
      "execution_count": null,
      "outputs": []
    }
  ]
}